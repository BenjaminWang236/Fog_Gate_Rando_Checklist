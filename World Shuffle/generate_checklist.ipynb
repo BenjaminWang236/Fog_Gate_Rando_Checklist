{
 "cells": [
  {
   "cell_type": "code",
   "execution_count": 128,
   "metadata": {},
   "outputs": [],
   "source": [
    "import pandas as pd\n",
    "import numpy as np\n",
    "import os\n"
   ]
  },
  {
   "cell_type": "code",
   "execution_count": 129,
   "metadata": {},
   "outputs": [],
   "source": [
    "def process_textfile(file_path: str) -> pd.DataFrame:\n",
    "    # Create a dictionary to store the data\n",
    "    data = {\"Area\": [], \"Fog\": [], \"Source\": []}\n",
    "\n",
    "    # Read the text file\n",
    "    with open(file_path, \"r\") as f:\n",
    "        lines = [line.strip() for line in f]\n",
    "        \n",
    "    area = \"\"\n",
    "\n",
    "    # Iterate through the lines\n",
    "    for line in lines:\n",
    "        # Check if the line starts with a number\n",
    "        if line[0].isdigit():\n",
    "            # Remove the number and period, then strip whitespace\n",
    "            area = line.split(\". \", 1)[1].strip()\n",
    "            # Append the area to the areas list\n",
    "            # areas.append(area)\n",
    "        # Check if the line starts with a '-' sign\n",
    "        elif line[0] == '-':\n",
    "            # Remove the '-' sign and strip whitespace\n",
    "            fog = line[1:].strip()\n",
    "            \n",
    "            # Append the area and its fog to the data dictionary\n",
    "            data[\"Area\"].append(area)\n",
    "            data[\"Fog\"].append(fog)\n",
    "            data[\"Source\"].append(file_path[:-4])\n",
    "\n",
    "    # Create a pandas DataFrame from the data dictionary\n",
    "    df = pd.DataFrame(data)\n",
    "\n",
    "    # Print the DataFrame\n",
    "    # df.head()\n",
    "    \n",
    "    return df"
   ]
  },
  {
   "cell_type": "code",
   "execution_count": 130,
   "metadata": {},
   "outputs": [
    {
     "name": "stdout",
     "output_type": "stream",
     "text": [
      "['Belfries.txt', 'Boss evergaols.txt', 'Colosseum entrances.txt', 'Critical path.txt', 'Divine towers.txt', 'Legacy dungeons.txt', 'Major bosses.txt', 'Mini dungeons.txt', 'Minor sending gates.txt', 'Stranded graveyard.txt', 'Underground cities.txt']\n"
     ]
    }
   ],
   "source": [
    "# List all files in the current folder\n",
    "all_files = os.listdir()\n",
    "\n",
    "# Filter out the ones with the \".txt\" extension\n",
    "text_files = [file for file in all_files if file.endswith(\".txt\")]\n",
    "\n",
    "# Print the list of file paths\n",
    "print(text_files)"
   ]
  },
  {
   "cell_type": "code",
   "execution_count": 131,
   "metadata": {},
   "outputs": [
    {
     "data": {
      "text/html": [
       "<div>\n",
       "<style scoped>\n",
       "    .dataframe tbody tr th:only-of-type {\n",
       "        vertical-align: middle;\n",
       "    }\n",
       "\n",
       "    .dataframe tbody tr th {\n",
       "        vertical-align: top;\n",
       "    }\n",
       "\n",
       "    .dataframe thead th {\n",
       "        text-align: right;\n",
       "    }\n",
       "</style>\n",
       "<table border=\"1\" class=\"dataframe\">\n",
       "  <thead>\n",
       "    <tr style=\"text-align: right;\">\n",
       "      <th></th>\n",
       "      <th>Area</th>\n",
       "      <th>Fog</th>\n",
       "      <th>Source</th>\n",
       "    </tr>\n",
       "  </thead>\n",
       "  <tbody>\n",
       "    <tr>\n",
       "      <th>0</th>\n",
       "      <td>Chapel of Anticipation - Grafted Scion</td>\n",
       "      <td>at the front of Grafted Scion's arena</td>\n",
       "      <td>Belfries</td>\n",
       "    </tr>\n",
       "    <tr>\n",
       "      <th>1</th>\n",
       "      <td>Chapel of Anticipation - Grafted Scion</td>\n",
       "      <td>at the side exit of Grafted Scion's arena</td>\n",
       "      <td>Belfries</td>\n",
       "    </tr>\n",
       "    <tr>\n",
       "      <th>2</th>\n",
       "      <td>Chapel of Anticipation - after Grafted Scion</td>\n",
       "      <td>after Grafted Scion's arena</td>\n",
       "      <td>Belfries</td>\n",
       "    </tr>\n",
       "    <tr>\n",
       "      <th>3</th>\n",
       "      <td>Liurnia</td>\n",
       "      <td>using the 2nd Belfry labeled Precipice of Anti...</td>\n",
       "      <td>Belfries</td>\n",
       "    </tr>\n",
       "    <tr>\n",
       "      <th>4</th>\n",
       "      <td>Liurnia</td>\n",
       "      <td>using the 3rd Belfry labeled Night Sky Unceasing</td>\n",
       "      <td>Belfries</td>\n",
       "    </tr>\n",
       "  </tbody>\n",
       "</table>\n",
       "</div>"
      ],
      "text/plain": [
       "                                           Area  \\\n",
       "0        Chapel of Anticipation - Grafted Scion   \n",
       "1        Chapel of Anticipation - Grafted Scion   \n",
       "2  Chapel of Anticipation - after Grafted Scion   \n",
       "3                                       Liurnia   \n",
       "4                                       Liurnia   \n",
       "\n",
       "                                                 Fog    Source  \n",
       "0              at the front of Grafted Scion's arena  Belfries  \n",
       "1          at the side exit of Grafted Scion's arena  Belfries  \n",
       "2                        after Grafted Scion's arena  Belfries  \n",
       "3  using the 2nd Belfry labeled Precipice of Anti...  Belfries  \n",
       "4   using the 3rd Belfry labeled Night Sky Unceasing  Belfries  "
      ]
     },
     "execution_count": 131,
     "metadata": {},
     "output_type": "execute_result"
    }
   ],
   "source": [
    "# Process the text files and combine the resulting DataFrames\n",
    "dataframes = [process_textfile(file_path) for file_path in text_files]\n",
    "combined_df = pd.concat(dataframes, ignore_index=True)\n",
    "\n",
    "# print(combined_df)\n",
    "combined_df.head()"
   ]
  },
  {
   "cell_type": "code",
   "execution_count": 132,
   "metadata": {},
   "outputs": [
    {
     "data": {
      "text/html": [
       "<div>\n",
       "<style scoped>\n",
       "    .dataframe tbody tr th:only-of-type {\n",
       "        vertical-align: middle;\n",
       "    }\n",
       "\n",
       "    .dataframe tbody tr th {\n",
       "        vertical-align: top;\n",
       "    }\n",
       "\n",
       "    .dataframe thead th {\n",
       "        text-align: right;\n",
       "    }\n",
       "</style>\n",
       "<table border=\"1\" class=\"dataframe\">\n",
       "  <thead>\n",
       "    <tr style=\"text-align: right;\">\n",
       "      <th></th>\n",
       "      <th>Area</th>\n",
       "      <th>Fog</th>\n",
       "      <th>Source</th>\n",
       "    </tr>\n",
       "  </thead>\n",
       "  <tbody>\n",
       "    <tr>\n",
       "      <th>0</th>\n",
       "      <td>Above Ainsel River Downstream</td>\n",
       "      <td>after the tunnel from Ainsel River Main</td>\n",
       "      <td>Underground cities</td>\n",
       "    </tr>\n",
       "    <tr>\n",
       "      <th>1</th>\n",
       "      <td>Academy of Raya Lucaria</td>\n",
       "      <td>getting abducted at the bottom of the elevator...</td>\n",
       "      <td>Legacy dungeons</td>\n",
       "    </tr>\n",
       "    <tr>\n",
       "      <th>2</th>\n",
       "      <td>Academy of Raya Lucaria</td>\n",
       "      <td>before Red Wolf's arena</td>\n",
       "      <td>Major bosses</td>\n",
       "    </tr>\n",
       "    <tr>\n",
       "      <th>3</th>\n",
       "      <td>Academy of Raya Lucaria - After Academy Crysta...</td>\n",
       "      <td>after Academy Crystal Cave boss</td>\n",
       "      <td>Mini dungeons</td>\n",
       "    </tr>\n",
       "    <tr>\n",
       "      <th>4</th>\n",
       "      <td>Academy of Raya Lucaria - Grand Library</td>\n",
       "      <td>at the front of Rennala's arena</td>\n",
       "      <td>Major bosses</td>\n",
       "    </tr>\n",
       "  </tbody>\n",
       "</table>\n",
       "</div>"
      ],
      "text/plain": [
       "                                                Area  \\\n",
       "0                      Above Ainsel River Downstream   \n",
       "1                            Academy of Raya Lucaria   \n",
       "2                            Academy of Raya Lucaria   \n",
       "3  Academy of Raya Lucaria - After Academy Crysta...   \n",
       "4            Academy of Raya Lucaria - Grand Library   \n",
       "\n",
       "                                                 Fog              Source  \n",
       "0            after the tunnel from Ainsel River Main  Underground cities  \n",
       "1  getting abducted at the bottom of the elevator...     Legacy dungeons  \n",
       "2                            before Red Wolf's arena        Major bosses  \n",
       "3                    after Academy Crystal Cave boss       Mini dungeons  \n",
       "4                    at the front of Rennala's arena        Major bosses  "
      ]
     },
     "execution_count": 132,
     "metadata": {},
     "output_type": "execute_result"
    }
   ],
   "source": [
    "# Sort the combined_df DataFrame by the \"Area\" column\n",
    "sorted_df = combined_df.sort_values(by=\"Area\").reset_index(drop=True)\n",
    "\n",
    "# Print the sorted DataFrame\n",
    "sorted_df.head()"
   ]
  },
  {
   "cell_type": "code",
   "execution_count": 133,
   "metadata": {},
   "outputs": [],
   "source": [
    "sorted_df.to_excel(\"sorted_data.xlsx\", index=False, engine='openpyxl')"
   ]
  },
  {
   "cell_type": "code",
   "execution_count": 134,
   "metadata": {},
   "outputs": [],
   "source": [
    "area_keywords = {\n",
    "    'Limgrave': ['Limgrave', 'Stormhill', 'Knowledge', 'Chapel of Anticipation', 'Stranded Graveyard', 'Beastman', 'Godrick', 'Stormveil', 'Margit'], \n",
    "    'Weeping Peninsula': ['Weeping Peninsula', 'Leonine Misbegotten'], \n",
    "    'Liurnia of the Lakes': ['Liurnia', 'Academy of Raya Lucaria', 'Makar', 'Bellum', 'Carian', 'Moonlight', 'Red Wolf of Radagon', 'Royal Knight', 'Ruin-Strewn'], \n",
    "    'Caelid': ['Redmane', 'Radahn', 'Caelid', 'Dragonbarrow'], \n",
    "    'Altus Plateau': ['Altus Plateau', 'Altus Tunnel', 'Capital Outskirts', 'Shaded Castle'], \n",
    "    'Mt. Gelmir': ['Mt. Gelmir', 'Volcano Manor', 'Rykard'], \n",
    "    'Leyndell, Ashen Capital': ['Ashen'],\n",
    "    'Leyndell, Royal Capital': ['Royal Capital', 'Leyndell', 'Subterranean Shunning-Grounds', 'Divine Tower of East Altus', 'Divine Tower of West Altus', 'the Omen'],\n",
    "    'Mountaintops of the Giants': ['Mountaintops', 'Niall', 'Sol', 'Fire Giant', 'Flame Peak', 'Forbidden'],\n",
    "    'Consecrated Snowfield': ['Consecrated Snowfield'],\n",
    "    \"Miquella's Haligtree\": ['Haligtree', 'Malenia'],\n",
    "    'Crumbling Farum Azula': ['Farum Azula', 'Dragon Temple', 'Godskin Duo', 'Maliketh'],\n",
    "    'Ainsel River': ['Ainsel', 'Nokstella'],\n",
    "    'Nokron, Eternal City': ['Nokron', 'Regal', 'Valiant Gargoyles', 'Mimic Tear'],\n",
    "    'Siofra River': ['Siofra', 'Ancestor Spirit'],\n",
    "    'Lake of Rot': [\"Lake of Rot\", 'Astel, Naturalborn'],\n",
    "    'Mohgwyn Palace': ['Lord of Blood', 'Mohgwyn'],\n",
    "    'Deeproot Depths': ['Deeproot Depths'],\n",
    "    'Roundtable': ['Roundtable']\n",
    "}\n",
    "\n",
    "output_dir = 'output/'"
   ]
  },
  {
   "cell_type": "code",
   "execution_count": 135,
   "metadata": {},
   "outputs": [
    {
     "name": "stdout",
     "output_type": "stream",
     "text": [
      "{'Limgrave': ['Cave of Knowledge', 'Cave of Knowledge - After Soldier of Godrick', 'Cave of Knowledge - From Seaside Ruins', 'Cave of Knowledge - Soldier of Godrick', 'Chapel of Anticipation', 'Chapel of Anticipation - Grafted Scion', 'Chapel of Anticipation - after Grafted Scion', 'Divine Tower of Limgrave', 'Godrick the Grafted', 'Limgrave', 'Limgrave - Church of Dragon Communion', 'Limgrave - Coastal Cave', 'Limgrave - Coastal Cave - Demi-Human Chiefs', \"Limgrave - Fringefolk Hero's Grave\", \"Limgrave - Fringefolk Hero's Grave - Ulcerated Tree Spirit\", 'Limgrave - Groveside Cave', 'Limgrave - Groveside Cave - Beastman of Farum Azula', 'Limgrave - Highroad Cave', 'Limgrave - Highroad Cave - Guardian Golem', 'Limgrave - Murkwater Catacombs', 'Limgrave - Murkwater Catacombs - Grave Warden Duelist', 'Limgrave - Murkwater Cave', 'Limgrave - Murkwater Cave - Patches', 'Limgrave - Stormfoot Catacombs', 'Limgrave - Stormfoot Catacombs - Erdtree Burial Watchdog', 'Limgrave - Waypoint Ruins - Mad Pumpkin Head', 'Limgrave - Waypoint Ruins - Sellen', 'Limgrave Tunnels', 'Limgrave Tunnels - Stonedigger Troll', 'Margit, the Fell Omen', 'Nokron from Limgrave', 'Stormhill', 'Stormhill - Deathtouched Catacombs', 'Stormhill - Deathtouched Catacombs - Black Knife Assassin', 'Stormveil Castle Throne Room', 'Stormveil Castle after Gate', 'Stormveil Castle before Gate', 'Stranded Graveyard'], 'Weeping Peninsula': ['Leonine Misbegotten', 'Weeping Peninsula', 'Weeping Peninsula - Beside the Rampart Gaol', 'Weeping Peninsula - Earthbore Cave', 'Weeping Peninsula - Earthbore Cave - Runebear', \"Weeping Peninsula - Impaler's Catacombs\", \"Weeping Peninsula - Impaler's Catacombs - Erdtree Burial Watchdog\", 'Weeping Peninsula - Morne Tunnel', 'Weeping Peninsula - Morne Tunnel - Scaly Misbegotten', 'Weeping Peninsula - Tombsward Catacombs', 'Weeping Peninsula - Tombsward Catacombs - Cemetery Shade', 'Weeping Peninsula - Tombsward Cave', 'Weeping Peninsula - Tombsward Cave - Miranda Blossom'], 'Liurnia of the Lakes': ['Academy of Raya Lucaria', 'Academy of Raya Lucaria - After Academy Crystal Cave', 'Academy of Raya Lucaria - Grand Library', 'Academy of Raya Lucaria Main Entrance', 'Academy of Raya Lucaria Rooftops', 'Academy of Raya Lucaria after Red Wolf', 'After Magma Wyrm Makar', 'Bellum Highway', 'Carian Study Hall', 'Divine Tower of Liurnia', 'Liurnia', 'Liurnia - Academy Crystal Cave', 'Liurnia - Academy Crystal Cave - Crystalian Duo', 'Liurnia - Black Knife Catacombs', 'Liurnia - Black Knife Catacombs - Black Knife Assassin', 'Liurnia - Black Knife Catacombs - Cemetery Shade', 'Liurnia - Caria Manor', 'Liurnia - Cliffbottom Catacombs', 'Liurnia - Cliffbottom Catacombs - Erdtree Burial Watchdog', 'Liurnia - Kingsrealm Ruins - After Boss', 'Liurnia - Kingsrealm Ruins - Royal Revenant', 'Liurnia - Lakeside Crystal Cave', 'Liurnia - Lakeside Crystal Cave - Bloodhound Knight', 'Liurnia - Raya Lucaria Crystal Tunnel', 'Liurnia - Raya Lucaria Crystal Tunnel - Crystalian', \"Liurnia - Road's End Catacombs\", \"Liurnia - Road's End Catacombs - Spiritcaller Snail\", \"Liurnia - Slumbering Wolf's Shack\", 'Liurnia - Stillwater Cave', 'Liurnia - Stillwater Cave - Cleanrot Knight', 'Liurnia Behind Caria Manor', 'Magma Wrym Makar', 'Moonlight Altar', 'Red Wolf of Radagon', 'Royal Knight Loretta', 'Ruin-Strewn Precipice'], 'Caelid': ['After Castle Redmane Boss', 'Before Radahn', 'Caelid', 'Caelid - Abandoned Cave', 'Caelid - Abandoned Cave - Cleanrot Knights', 'Caelid - Abandoned Cave Start', 'Caelid - After Gaol Cave', 'Caelid - Caelem Ruins - After Boss', 'Caelid - Caelem Ruins - Mad Pumpkin Heads', 'Caelid - Gael Tunnel', 'Caelid - Gael Tunnel - Magma Wyrm', 'Caelid - Gael Tunnel Start', 'Caelid - Gaol Cave', 'Caelid - Gaol Cave - Above Boss', 'Caelid - Gaol Cave - Frenzied Duelist', 'Caelid - Minor Erdtree Catacombs', 'Caelid - Minor Erdtree Catacombs - Erdtree Burial Watchdogs', 'Caelid - Rear Gael Tunnel', 'Caelid - Sellia Chair-Crypt - After Boss', 'Caelid - Sellia Chair-Crypt - Nox Duo', 'Caelid - Sellia Crystal Tunnel', 'Caelid - Sellia Crystal Tunnel - Fallingstar Beast', 'Caelid - War-Dead Catacombs', 'Caelid - War-Dead Catacombs - Putrid Tree Spirit', 'Caelid Catacombs', 'Caelid Catacombs - Cemetery Shade', 'Caelid Greatjar', 'Castle Redmane', 'Castle Redmane Boss', 'Divine Tower of Caelid', 'Divine Tower of Caelid - After Godskin Apostle', 'Divine Tower of Caelid - Godskin Apostle', 'Divine Tower of Caelid Interior', 'Dragonbarrow', 'Dragonbarrow - Sellia Hideaway', 'Dragonbarrow - Sellia Hideaway - Putrid Crystalians', 'Dragonbarrow Cave', 'Dragonbarrow Cave - Beastmen of Farum Azula', 'Starscourge Radahn'], 'Altus Plateau': ['Altus Plateau', 'Altus Plateau - Lux Ruins - After Boss', 'Altus Plateau - Lux Ruins - Demi-Human Queen Gilika', \"Altus Plateau - Perfumer's Grotto\", \"Altus Plateau - Perfumer's Grotto - Omenkiller and Miranda the Blighted Bloom\", \"Altus Plateau - Sage's Cave\", \"Altus Plateau - Sage's Cave - Black Knife Assassin\", \"Altus Plateau - Sage's Cave - Necromancer Garris\", \"Altus Plateau - Sainted Hero's Grave\", \"Altus Plateau - Sainted Hero's Grave - Ancient Hero of Zamor\", 'Altus Plateau - Unsightly Catacombs', 'Altus Plateau - Unsightly Catacombs - Perfumer Tricia and Misbegotten Warrior', 'Altus Plateau - Writheblood Ruins - After Boss', 'Altus Plateau - Writheblood Ruins - Sanguine Noble', 'Altus Tunnel', 'Altus Tunnel - Crystalian Duo', 'Capital Outskirts', \"Capital Outskirts - Auriza Hero's Grave\", \"Capital Outskirts - Auriza Hero's Grave - Crucible Knight Ordovis\", 'Capital Outskirts - Auriza Side Tomb', 'Capital Outskirts - Auriza Side Tomb - Dupe Entrance', 'Capital Outskirts - Auriza Side Tomb - Dupe First Floor', 'Capital Outskirts - Auriza Side Tomb - Dupe Jail and Lever', 'Capital Outskirts - Auriza Side Tomb - Dupe Second Floor', 'Capital Outskirts - Auriza Side Tomb - Grave Warden Duelist', 'Capital Outskirts - Auriza Side Tomb - Main First Floor', 'Capital Outskirts - Auriza Side Tomb - Main Jail', 'Capital Outskirts - Auriza Side Tomb - Main Second Floor', 'Capital Outskirts - Capital Rampart', 'Capital Outskirts - Sealed Tunnel', 'Capital Outskirts - Sealed Tunnel - Onyx Lord', 'Capital Outskirts - Sealed Tunnel Before Boss', 'Old Altus Tunnel', 'Old Altus Tunnel - Stonedigger Troll', 'Shaded Castle', 'Shaded Castle - Elemer of the Briar'], 'Mt. Gelmir': ['Before Volcano Manor Entrance', 'Mt. Gelmir', \"Mt. Gelmir - Gelmir Hero's Grave\", \"Mt. Gelmir - Gelmir Hero's Grave - Red Wolf of the Champion\", 'Mt. Gelmir - Seethewater Cave', 'Mt. Gelmir - Seethewater Cave - Kindred of Rot Duo', 'Mt. Gelmir - Volcano Cave', 'Mt. Gelmir - Volcano Cave - Demi-Human Queen Margot', 'Mt. Gelmir - Wyndham Catacombs', 'Mt. Gelmir - Wyndham Catacombs - Erdtree Burial Watchdog', 'Rykard, Lord of Blasphemy', 'Volcano Manor - Abductor Virgins', 'Volcano Manor - After Abductor Virgins', 'Volcano Manor - Audience Pathway', 'Volcano Manor - Hallway Opposite Sending Gate', 'Volcano Manor - Room Before Sending Gate', 'Volcano Manor - Temple of Eiglay', 'Volcano Manor - Temple of Eiglay Shortcut Elevator', 'Volcano Manor Drawing Room', 'Volcano Manor Prison Town', 'Volcano Manor Prison Town Church'], 'Leyndell, Ashen Capital': ['Ashen Leyndell', 'Ashen Leyndell - Behind Erdtree Sanctuary', 'Ashen Leyndell - Elden Throne', 'Ashen Leyndell - Erdtree Sanctuary', \"Ashen Leyndell - Queen's Bedchamber\", 'Ashen Leyndell - South of Erdtree Sanctuary', 'Ashen Leyndell - before Divine Tower'], 'Leyndell, Royal Capital': ['Ashen Leyndell', 'Ashen Leyndell - Behind Erdtree Sanctuary', 'Ashen Leyndell - Elden Throne', 'Ashen Leyndell - Erdtree Sanctuary', \"Ashen Leyndell - Queen's Bedchamber\", 'Ashen Leyndell - South of Erdtree Sanctuary', 'Ashen Leyndell - before Divine Tower', 'Divine Tower of East Altus', 'Divine Tower of East Altus Start', 'Divine Tower of West Altus', 'Leyndell', 'Leyndell - Behind Erdtree Sanctuary', 'Leyndell - Divine Bridge', 'Leyndell - Elden Throne', 'Leyndell - Erdtree Entrance', 'Leyndell - Erdtree Sanctuary', 'Leyndell - Erdtree Sanctuary Stairs', 'Leyndell - Erdtree Sanctuary Treasure', \"Leyndell - Queen's Bedchamber\", 'Leyndell - before Divine Tower', 'Leyndell Catacombs', 'Leyndell Catacombs - Esgar, Priest of Blood', 'Leyndell Start', 'Mohg, the Omen', 'Subterranean Shunning-Grounds', 'Subterranean Shunning-Grounds - From Royal Capital'], 'Mountaintops of the Giants': ['After Commander Niall', 'After Dragonkin Soldier of Nokstella', 'Castle Sol', 'Cave of Knowledge - After Soldier of Godrick', 'Cave of Knowledge - Soldier of Godrick', 'Commander Niall', 'Dragonkin Soldier of Nokstella', 'Fire Giant', 'Flame Peak', \"Flame Peak - Giant-Conquering Hero's Grave\", \"Flame Peak - Giant-Conquering Hero's Grave - Ancient Hero of Zamor\", \"Flame Peak - Giants' Mountaintop Catacombs\", \"Flame Peak - Giants' Mountaintop Catacombs - Ulcerated Tree Spirit\", 'Forbidden Lands', 'Mountaintops - Spiritcaller Cave', 'Mountaintops - Spiritcaller Cave - Spiritcaller Snail', 'Mountaintops of the Giants'], 'Consecrated Snowfield': ['Consecrated Snowfield', 'Consecrated Snowfield - Cave of the Forlorn', 'Consecrated Snowfield - Cave of the Forlorn - Misbegotten Crusader', 'Consecrated Snowfield - Yelough Anix Tunnel', 'Consecrated Snowfield - Yelough Anix Tunnel - Astel, Stars of Darkness', 'Consecrated Snowfield Catacombs', 'Consecrated Snowfield Catacombs - Putrid Grave Warden Duelist'], \"Miquella's Haligtree\": ['After Loretta, Knight of the Haligtree', 'Elphael, Brace of the Haligtree', 'Haligtree Town', 'Hidden Path to the Haligtree', 'Hidden Path to the Haligtree - Rold Elevator', 'Hidden Path to the Haligtree - Stray Mimic Tear', 'Loretta, Knight of the Haligtree', 'Malenia, Blade of Miquella'], 'Crumbling Farum Azula': ['Dragonbarrow Cave - Beastmen of Farum Azula', 'Farum Azula - Dragon Temple', 'Farum Azula - Dragon Temple Balcony', 'Farum Azula - Dragon Temple Lift', 'Farum Azula - Dragon Temple Transept', 'Farum Azula Rooftop and Bridge', 'Godskin Duo', 'Limgrave - Groveside Cave - Beastman of Farum Azula', 'Maliketh the Black Blade'], 'Ainsel River': ['Above Ainsel River Downstream', 'After Dragonkin Soldier of Nokstella', 'Ainsel River Downstream', 'Ainsel River Main', 'Dragonkin Soldier of Nokstella'], 'Nokron, Eternal City': ['Before Regal Ancestor Spirit', 'Hidden Path to the Haligtree - Stray Mimic Tear', 'Mimic Tear', 'Nokron - Ancestral Woods', 'Nokron - Aqueduct-Facing Cliffs', 'Nokron - Aqueduct-Facing Cliffs Room', \"Nokron - Night's Sacred Grounds\", 'Nokron before Mimic Tear', 'Nokron from Limgrave', 'Regal Ancestor Spirit', 'Valiant Gargoyles'], 'Siofra River': ['Ancestor Spirit', 'Before Regal Ancestor Spirit', 'Regal Ancestor Spirit', 'Siofra River', 'Siofra River before Ancestor Spirit'], 'Lake of Rot': ['After Astel, Naturalborn of the Void', 'Astel, Naturalborn of the Void', 'Before Astel, Naturalborn of the Void', 'Lake of Rot'], 'Mohgwyn Palace': ['After Mohg, Lord of Blood', 'Mohg, Lord of Blood', 'Mohgwyn Palace'], 'Deeproot Depths': ['Deeproot Depths', \"Deeproot Depths - Fia's Champions\"], 'Roundtable': ['Roundtable Hold', 'Roundtable Hold Balcony']}\n"
     ]
    }
   ],
   "source": [
    "for key, keywords in area_keywords.items():\n",
    "    # Iterate over the unique values in the \"Area\" column and check if they contain any keywords\n",
    "    areas_to_keep = [area for area in sorted_df[\"Area\"].unique() if any(keyword in area for keyword in keywords)]\n",
    "\n",
    "    area_keywords[key] = areas_to_keep\n",
    "    \n",
    "print(area_keywords)"
   ]
  },
  {
   "cell_type": "code",
   "execution_count": 136,
   "metadata": {},
   "outputs": [
    {
     "name": "stdout",
     "output_type": "stream",
     "text": [
      "\n",
      "Should be empty:\n",
      "Empty DataFrame\n",
      "Columns: [Area, Fog, Source]\n",
      "Index: []\n"
     ]
    }
   ],
   "source": [
    "for key, areas_to_keep in area_keywords.items():    \n",
    "    # Filter the sorted_df DataFrame based on the areas_to_keep list\n",
    "    filtered_df = sorted_df[sorted_df[\"Area\"].isin(areas_to_keep)]\n",
    "    # print(filtered_df.head())\n",
    "    \n",
    "    # print(key)\n",
    "    filtered_df.to_excel(f\"{output_dir}{key}.xlsx\", index=False, engine='openpyxl')\n",
    "\n",
    "    # Drop the filtered_df entries from the original sorted_df\n",
    "    sorted_df = sorted_df.drop(filtered_df.index)\n",
    "\n",
    "# Print the remaining DataFrame\n",
    "print(f\"\\nShould be empty:\")\n",
    "print(sorted_df)\n"
   ]
  }
 ],
 "metadata": {
  "kernelspec": {
   "display_name": "base",
   "language": "python",
   "name": "python3"
  },
  "language_info": {
   "codemirror_mode": {
    "name": "ipython",
    "version": 3
   },
   "file_extension": ".py",
   "mimetype": "text/x-python",
   "name": "python",
   "nbconvert_exporter": "python",
   "pygments_lexer": "ipython3",
   "version": "3.9.16"
  },
  "orig_nbformat": 4
 },
 "nbformat": 4,
 "nbformat_minor": 2
}
